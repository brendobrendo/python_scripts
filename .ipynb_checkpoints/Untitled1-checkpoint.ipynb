{
 "cells": [
  {
   "cell_type": "code",
   "execution_count": 4,
   "id": "e388ac9d",
   "metadata": {},
   "outputs": [
    {
     "ename": "AssertionError",
     "evalue": "OpenAI API key not found in .env file",
     "output_type": "error",
     "traceback": [
      "\u001b[0;31m---------------------------------------------------------------------------\u001b[0m",
      "\u001b[0;31mAssertionError\u001b[0m                            Traceback (most recent call last)",
      "\u001b[0;32m<ipython-input-4-642bfeb0d248>\u001b[0m in \u001b[0;36m<module>\u001b[0;34m\u001b[0m\n\u001b[1;32m     11\u001b[0m     \u001b[0mkernel\u001b[0m\u001b[0;34m.\u001b[0m\u001b[0madd_text_completion_service\u001b[0m\u001b[0;34m(\u001b[0m\u001b[0;34m\"openai\"\u001b[0m\u001b[0;34m,\u001b[0m \u001b[0mOpenAIChatCompletion\u001b[0m\u001b[0;34m(\u001b[0m\u001b[0;34m\"gpt-3.5-turbo-0301\"\u001b[0m\u001b[0;34m,\u001b[0m \u001b[0mapi_key\u001b[0m\u001b[0;34m,\u001b[0m \u001b[0morg_id\u001b[0m\u001b[0;34m)\u001b[0m\u001b[0;34m)\u001b[0m\u001b[0;34m\u001b[0m\u001b[0;34m\u001b[0m\u001b[0m\n\u001b[1;32m     12\u001b[0m \u001b[0;32melse\u001b[0m\u001b[0;34m:\u001b[0m\u001b[0;34m\u001b[0m\u001b[0;34m\u001b[0m\u001b[0m\n\u001b[0;32m---> 13\u001b[0;31m     \u001b[0mapi_key\u001b[0m\u001b[0;34m,\u001b[0m \u001b[0morg_id\u001b[0m \u001b[0;34m=\u001b[0m \u001b[0msk\u001b[0m\u001b[0;34m.\u001b[0m\u001b[0mopenai_settings_from_dot_env\u001b[0m\u001b[0;34m(\u001b[0m\u001b[0;34m)\u001b[0m\u001b[0;34m\u001b[0m\u001b[0;34m\u001b[0m\u001b[0m\n\u001b[0m\u001b[1;32m     14\u001b[0m     \u001b[0mprint\u001b[0m\u001b[0;34m(\u001b[0m\u001b[0mapi_key\u001b[0m\u001b[0;34m,\u001b[0m \u001b[0morg_id\u001b[0m\u001b[0;34m)\u001b[0m\u001b[0;34m\u001b[0m\u001b[0;34m\u001b[0m\u001b[0m\n\u001b[1;32m     15\u001b[0m     \u001b[0mkernel\u001b[0m\u001b[0;34m.\u001b[0m\u001b[0madd_text_completion_service\u001b[0m\u001b[0;34m(\u001b[0m\u001b[0;34m\"openai\"\u001b[0m\u001b[0;34m,\u001b[0m \u001b[0mOpenAIChatCompletion\u001b[0m\u001b[0;34m(\u001b[0m\u001b[0;34m\"gpt-3.5-turbo-0301\"\u001b[0m\u001b[0;34m,\u001b[0m \u001b[0mapi_key\u001b[0m\u001b[0;34m,\u001b[0m \u001b[0morg_id\u001b[0m\u001b[0;34m)\u001b[0m\u001b[0;34m)\u001b[0m\u001b[0;34m\u001b[0m\u001b[0;34m\u001b[0m\u001b[0m\n",
      "\u001b[0;32m/opt/anaconda3/lib/python3.8/site-packages/semantic_kernel/utils/settings.py\u001b[0m in \u001b[0;36mopenai_settings_from_dot_env\u001b[0;34m()\u001b[0m\n\u001b[1;32m     18\u001b[0m     \u001b[0morg_id\u001b[0m \u001b[0;34m=\u001b[0m \u001b[0mconfig\u001b[0m\u001b[0;34m.\u001b[0m\u001b[0mget\u001b[0m\u001b[0;34m(\u001b[0m\u001b[0;34m\"OPENAI_ORG_ID\"\u001b[0m\u001b[0;34m,\u001b[0m \u001b[0;32mNone\u001b[0m\u001b[0;34m)\u001b[0m\u001b[0;34m\u001b[0m\u001b[0;34m\u001b[0m\u001b[0m\n\u001b[1;32m     19\u001b[0m \u001b[0;34m\u001b[0m\u001b[0m\n\u001b[0;32m---> 20\u001b[0;31m     \u001b[0;32massert\u001b[0m \u001b[0mapi_key\u001b[0m\u001b[0;34m,\u001b[0m \u001b[0;34m\"OpenAI API key not found in .env file\"\u001b[0m\u001b[0;34m\u001b[0m\u001b[0;34m\u001b[0m\u001b[0m\n\u001b[0m\u001b[1;32m     21\u001b[0m \u001b[0;34m\u001b[0m\u001b[0m\n\u001b[1;32m     22\u001b[0m     \u001b[0;31m# It's okay if the org ID is not found (not required)\u001b[0m\u001b[0;34m\u001b[0m\u001b[0;34m\u001b[0m\u001b[0;34m\u001b[0m\u001b[0m\n",
      "\u001b[0;31mAssertionError\u001b[0m: OpenAI API key not found in .env file"
     ]
    }
   ],
   "source": [
    "import semantic_kernel as sk\n",
    "from semantic_kernel.connectors.ai.open_ai import AzureChatCompletion, OpenAIChatCompletion\n",
    "from semantic_kernel.connectors.ai.hugging_face import HuggingFaceTextCompletion\n",
    "from IPython.display import display, Markdown\n",
    "\n",
    "kernel = sk.Kernel()\n",
    "\n",
    "useAzureOpenAI = False\n",
    "\n",
    "if useAzureOpenAI:\n",
    "    deployment, api_key, endpoint = sk.azure_openai_settings_from_dot_env()\n",
    "    kernel.add_text_completion_service(\"openai\", OpenAIChatCompletion(\"gpt-3.5-turbo-0301\", api_key, org_id))\n",
    "# else:\n",
    "#     api_key, org_id = sk.openai_settings_from_dot_env()\n",
    "#     print(api_key, org_id)\n",
    "#     kernel.add_text_completion_service(\"openai\", OpenAIChatCompletion(\"gpt-3.5-turbo-0301\", api_key, org_id))\n",
    "else:\n",
    "    kernel.add_text_completion_service(\"huggingface\", HuggingFaceTextCompletion(\"gpt2\", task=\"text-generation\"))\n",
    "    \n",
    "    \n",
    "print(\"A kernel is now ready.\")"
   ]
  },
  {
   "cell_type": "code",
   "execution_count": 3,
   "id": "ae00da78",
   "metadata": {},
   "outputs": [
    {
     "ename": "ValueError",
     "evalue": "TextCompletionClientBase service with service_id 'None' not found",
     "output_type": "error",
     "traceback": [
      "\u001b[0;31m---------------------------------------------------------------------------\u001b[0m",
      "\u001b[0;31mValueError\u001b[0m                                Traceback (most recent call last)",
      "\u001b[0;32m<ipython-input-3-424c09b026cf>\u001b[0m in \u001b[0;36m<module>\u001b[0;34m\u001b[0m\n\u001b[1;32m      4\u001b[0m \u001b[0mpluginsDirectory\u001b[0m \u001b[0;34m=\u001b[0m \u001b[0;34m\"./plugins-sk\"\u001b[0m\u001b[0;34m\u001b[0m\u001b[0;34m\u001b[0m\u001b[0m\n\u001b[1;32m      5\u001b[0m \u001b[0;34m\u001b[0m\u001b[0m\n\u001b[0;32m----> 6\u001b[0;31m \u001b[0mpluginBT\u001b[0m \u001b[0;34m=\u001b[0m \u001b[0mkernel\u001b[0m\u001b[0;34m.\u001b[0m\u001b[0mimport_semantic_skill_from_directory\u001b[0m\u001b[0;34m(\u001b[0m\u001b[0mpluginsDirectory\u001b[0m\u001b[0;34m,\u001b[0m \u001b[0;34m\"BusinessThinking\"\u001b[0m\u001b[0;34m)\u001b[0m\u001b[0;34m;\u001b[0m\u001b[0;34m\u001b[0m\u001b[0;34m\u001b[0m\u001b[0m\n\u001b[0m\u001b[1;32m      7\u001b[0m \u001b[0;34m\u001b[0m\u001b[0m\n\u001b[1;32m      8\u001b[0m \u001b[0mmy_context\u001b[0m \u001b[0;34m=\u001b[0m \u001b[0mkernel\u001b[0m\u001b[0;34m.\u001b[0m\u001b[0mcreate_new_context\u001b[0m\u001b[0;34m(\u001b[0m\u001b[0;34m)\u001b[0m\u001b[0;34m\u001b[0m\u001b[0;34m\u001b[0m\u001b[0m\n",
      "\u001b[0;32m/opt/anaconda3/lib/python3.8/site-packages/semantic_kernel/kernel.py\u001b[0m in \u001b[0;36mimport_semantic_skill_from_directory\u001b[0;34m(self, parent_directory, skill_directory_name)\u001b[0m\n\u001b[1;32m    798\u001b[0m             \u001b[0mfunction_config\u001b[0m \u001b[0;34m=\u001b[0m \u001b[0mSemanticFunctionConfig\u001b[0m\u001b[0;34m(\u001b[0m\u001b[0mconfig\u001b[0m\u001b[0;34m,\u001b[0m \u001b[0mtemplate\u001b[0m\u001b[0;34m)\u001b[0m\u001b[0;34m\u001b[0m\u001b[0;34m\u001b[0m\u001b[0m\n\u001b[1;32m    799\u001b[0m \u001b[0;34m\u001b[0m\u001b[0m\n\u001b[0;32m--> 800\u001b[0;31m             skill[function_name] = self.register_semantic_function(\n\u001b[0m\u001b[1;32m    801\u001b[0m                 \u001b[0mskill_directory_name\u001b[0m\u001b[0;34m,\u001b[0m \u001b[0mfunction_name\u001b[0m\u001b[0;34m,\u001b[0m \u001b[0mfunction_config\u001b[0m\u001b[0;34m\u001b[0m\u001b[0;34m\u001b[0m\u001b[0m\n\u001b[1;32m    802\u001b[0m             )\n",
      "\u001b[0;32m/opt/anaconda3/lib/python3.8/site-packages/semantic_kernel/kernel.py\u001b[0m in \u001b[0;36mregister_semantic_function\u001b[0;34m(self, skill_name, function_name, function_config)\u001b[0m\n\u001b[1;32m    127\u001b[0m         \u001b[0mvalidate_function_name\u001b[0m\u001b[0;34m(\u001b[0m\u001b[0mfunction_name\u001b[0m\u001b[0;34m)\u001b[0m\u001b[0;34m\u001b[0m\u001b[0;34m\u001b[0m\u001b[0m\n\u001b[1;32m    128\u001b[0m \u001b[0;34m\u001b[0m\u001b[0m\n\u001b[0;32m--> 129\u001b[0;31m         function = self._create_semantic_function(\n\u001b[0m\u001b[1;32m    130\u001b[0m             \u001b[0mskill_name\u001b[0m\u001b[0;34m,\u001b[0m \u001b[0mfunction_name\u001b[0m\u001b[0;34m,\u001b[0m \u001b[0mfunction_config\u001b[0m\u001b[0;34m\u001b[0m\u001b[0;34m\u001b[0m\u001b[0m\n\u001b[1;32m    131\u001b[0m         )\n",
      "\u001b[0;32m/opt/anaconda3/lib/python3.8/site-packages/semantic_kernel/kernel.py\u001b[0m in \u001b[0;36m_create_semantic_function\u001b[0;34m(self, skill_name, function_name, function_config)\u001b[0m\n\u001b[1;32m    690\u001b[0m             \u001b[0mfunction\u001b[0m\u001b[0;34m.\u001b[0m\u001b[0mset_chat_service\u001b[0m\u001b[0;34m(\u001b[0m\u001b[0;32mlambda\u001b[0m\u001b[0;34m:\u001b[0m \u001b[0mservice\u001b[0m\u001b[0;34m(\u001b[0m\u001b[0mself\u001b[0m\u001b[0;34m)\u001b[0m\u001b[0;34m)\u001b[0m\u001b[0;34m\u001b[0m\u001b[0;34m\u001b[0m\u001b[0m\n\u001b[1;32m    691\u001b[0m         \u001b[0;32melse\u001b[0m\u001b[0;34m:\u001b[0m\u001b[0;34m\u001b[0m\u001b[0;34m\u001b[0m\u001b[0m\n\u001b[0;32m--> 692\u001b[0;31m             service = self.get_ai_service(\n\u001b[0m\u001b[1;32m    693\u001b[0m                 \u001b[0mTextCompletionClientBase\u001b[0m\u001b[0;34m,\u001b[0m\u001b[0;34m\u001b[0m\u001b[0;34m\u001b[0m\u001b[0m\n\u001b[1;32m    694\u001b[0m                 \u001b[0mfunction_config\u001b[0m\u001b[0;34m.\u001b[0m\u001b[0mprompt_template_config\u001b[0m\u001b[0;34m.\u001b[0m\u001b[0mdefault_services\u001b[0m\u001b[0;34m[\u001b[0m\u001b[0;36m0\u001b[0m\u001b[0;34m]\u001b[0m\u001b[0;34m\u001b[0m\u001b[0;34m\u001b[0m\u001b[0m\n",
      "\u001b[0;32m/opt/anaconda3/lib/python3.8/site-packages/semantic_kernel/kernel.py\u001b[0m in \u001b[0;36mget_ai_service\u001b[0;34m(self, type, service_id)\u001b[0m\n\u001b[1;32m    427\u001b[0m \u001b[0;34m\u001b[0m\u001b[0m\n\u001b[1;32m    428\u001b[0m         \u001b[0;32mif\u001b[0m \u001b[0mservice_id\u001b[0m \u001b[0;32mnot\u001b[0m \u001b[0;32min\u001b[0m \u001b[0mmatching_type\u001b[0m\u001b[0;34m:\u001b[0m\u001b[0;34m\u001b[0m\u001b[0;34m\u001b[0m\u001b[0m\n\u001b[0;32m--> 429\u001b[0;31m             raise ValueError(\n\u001b[0m\u001b[1;32m    430\u001b[0m                 \u001b[0;34mf\"{type.__name__} service with service_id '{service_id}' not found\"\u001b[0m\u001b[0;34m\u001b[0m\u001b[0;34m\u001b[0m\u001b[0m\n\u001b[1;32m    431\u001b[0m             )\n",
      "\u001b[0;31mValueError\u001b[0m: TextCompletionClientBase service with service_id 'None' not found"
     ]
    }
   ],
   "source": [
    "strengths = [ \"Unique garlic pizza recipe that wins top awards\", \"Owner trained in Sicily at some of the best pizzarias\", \"Strong local reputation\", \"Prime location on university campus\"]\n",
    "weaknesses = [ \"High staff turnover\", \"Floods in the seating area that are in need of repair\", \"Absence of popular calzones from the menu\", \"Negative reviews from younger demographic for lack of hip ingredients\"]\n",
    "\n",
    "pluginsDirectory = \"./plugins-sk\"\n",
    "\n",
    "pluginBT = kernel.import_semantic_skill_from_directory(pluginsDirectory, \"BusinessThinking\");\n",
    "\n",
    "my_context = kernel.create_new_context()\n",
    "my_context['input'] = 'makes pizzas'\n",
    "my_context['strengths'] = \", \".join(strengths)\n",
    "my_context['weaknesses'] = \", \".join(weaknesses)\n",
    "\n",
    "costefficiency_result = await kernel.run_async(pluginBT[\"SeekCostEfficiency\"], input_context=my_context)\n",
    "costefficiency_str = str(\"### ✨ Suggestions for how to gain cost efficiencies\\n\" + str(costefficiency_result))\n",
    "display(Markdown(costefficiency_str))"
   ]
  },
  {
   "cell_type": "code",
   "execution_count": null,
   "id": "ca842c7e",
   "metadata": {},
   "outputs": [],
   "source": []
  },
  {
   "cell_type": "code",
   "execution_count": null,
   "id": "b5ec00e1",
   "metadata": {},
   "outputs": [],
   "source": []
  }
 ],
 "metadata": {
  "kernelspec": {
   "display_name": "Python 3",
   "language": "python",
   "name": "python3"
  },
  "language_info": {
   "codemirror_mode": {
    "name": "ipython",
    "version": 3
   },
   "file_extension": ".py",
   "mimetype": "text/x-python",
   "name": "python",
   "nbconvert_exporter": "python",
   "pygments_lexer": "ipython3",
   "version": "3.8.8"
  }
 },
 "nbformat": 4,
 "nbformat_minor": 5
}
